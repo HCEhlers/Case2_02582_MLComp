{
 "cells": [
  {
   "cell_type": "code",
   "execution_count": 6,
   "id": "3d6ae743",
   "metadata": {},
   "outputs": [],
   "source": [
    "import pandas as pd\n",
    "import numpy as np\n",
    "import scipy\n",
    "import scipy.misc\n",
    "from PIL import Image\n",
    "import imageio as iio\n",
    "from pathlib import Path\n",
    "import string\n",
    "import glob\n",
    "import os"
   ]
  },
  {
   "cell_type": "code",
   "execution_count": 7,
   "id": "7bf307fb",
   "metadata": {},
   "outputs": [
    {
     "name": "stdout",
     "output_type": "stream",
     "text": [
      "(23705, 3)\n",
      "[[100   0   0]\n",
      " [100   0   0]\n",
      " [100   1   0]\n",
      " ...\n",
      " [  9   1   4]\n",
      " [  9   1   4]\n",
      " [  9   1   4]]\n"
     ]
    }
   ],
   "source": [
    "############\n",
    "###Labels###\n",
    "#age: from 1 to 116\n",
    "#gender: 0-male; 1-female\n",
    "#race: 0-white; 1-black; 2-Asian; 3-Indian; 4-others(like Hispanic, Latino, Middle Eastern)\n",
    "############\n",
    "\n",
    "labels = pd.read_csv('./data/labels.csv', header = None)\n",
    "labels = labels.values\n",
    "print(labels.shape)\n",
    "print(labels)"
   ]
  },
  {
   "cell_type": "code",
   "execution_count": 8,
   "id": "e05f9cbb",
   "metadata": {},
   "outputs": [
    {
     "name": "stdout",
     "output_type": "stream",
     "text": [
      "labels of ages: [  1   2   3   4   5   6   7   8   9  10  11  12  13  14  15  16  17  18\n",
      "  19  20  21  22  23  24  25  26  27  28  29  30  31  32  33  34  35  36\n",
      "  37  38  39  40  41  42  43  44  45  46  47  48  49  50  51  52  53  54\n",
      "  55  56  57  58  59  60  61  62  63  64  65  66  67  68  69  70  71  72\n",
      "  73  74  75  76  77  78  79  80  81  82  83  84  85  86  87  88  89  90\n",
      "  91  92  93  95  96  99 100 101 103 105 110 111 115 116]\n",
      "labels of genders: [0 1]\n",
      "labels of races: [0 1 2 3 4]\n"
     ]
    }
   ],
   "source": [
    "print(\"labels of ages: {}\".format(np.unique(labels[:, 0])))\n",
    "print(\"labels of genders: {}\".format(np.unique(labels[:, 1])))\n",
    "print(\"labels of races: {}\".format(np.unique(labels[:, -1])))"
   ]
  },
  {
   "cell_type": "code",
   "execution_count": null,
   "id": "1342cf01",
   "metadata": {},
   "outputs": [],
   "source": [
    "# read images from Faces folder\n",
    "images = list()\n",
    "\n",
    "filelist = glob.glob('./data/Faces/*.jpg')\n",
    "for file in sorted(filelist, key=lambda s: int(s.strip(string.ascii_letters + \"./\"))):\n",
    "    im = iio.imread(file)\n",
    "    images.append(im)\n",
    "images = np.array(images)\n",
    "print(images.shape)"
   ]
  },
  {
   "cell_type": "code",
   "execution_count": null,
   "id": "7d9795e0",
   "metadata": {},
   "outputs": [],
   "source": []
  },
  {
   "cell_type": "code",
   "execution_count": null,
   "id": "b712afe1",
   "metadata": {},
   "outputs": [],
   "source": []
  },
  {
   "cell_type": "code",
   "execution_count": null,
   "id": "cd9c0cc2",
   "metadata": {},
   "outputs": [],
   "source": []
  },
  {
   "cell_type": "code",
   "execution_count": null,
   "id": "d892a6a2",
   "metadata": {},
   "outputs": [],
   "source": []
  }
 ],
 "metadata": {
  "kernelspec": {
   "display_name": "Python 3 (ipykernel)",
   "language": "python",
   "name": "python3"
  },
  "language_info": {
   "codemirror_mode": {
    "name": "ipython",
    "version": 3
   },
   "file_extension": ".py",
   "mimetype": "text/x-python",
   "name": "python",
   "nbconvert_exporter": "python",
   "pygments_lexer": "ipython3",
   "version": "3.10.2"
  }
 },
 "nbformat": 4,
 "nbformat_minor": 5
}
