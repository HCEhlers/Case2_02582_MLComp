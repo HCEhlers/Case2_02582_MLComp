{
 "cells": [
  {
   "cell_type": "code",
   "execution_count": 1,
   "id": "3d6ae743",
   "metadata": {},
   "outputs": [],
   "source": [
    "import pandas as pd\n",
    "import numpy as np\n",
    "import scipy\n",
    "import scipy.misc\n",
    "from PIL import Image\n",
    "import imageio as iio\n",
    "from pathlib import Path\n",
    "import string\n",
    "import glob\n",
    "import os"
   ]
  },
  {
   "cell_type": "code",
   "execution_count": 2,
   "id": "7bf307fb",
   "metadata": {},
   "outputs": [
    {
     "name": "stdout",
     "output_type": "stream",
     "text": [
      "(23705, 3)\n",
      "[[100   0   0]\n",
      " [100   0   0]\n",
      " [100   1   0]\n",
      " ...\n",
      " [  9   1   4]\n",
      " [  9   1   4]\n",
      " [  9   1   4]]\n",
      "       Age  Gender  Race   1   2   3   4   5    6   7  ...  127  128  129  \\\n",
      "0        1       0     2  -4  71  -4  96  -3  120  -1  ...  107  136  130   \n",
      "1        1       0     2  13  76  13  96  15  117  18  ...  102  137  121   \n",
      "2        1       0     2  11  62  14  84  18  105  23  ...  108  135  135   \n",
      "3        6       1     2  36  66  34  86  38  108  45  ...  102  140  120   \n",
      "4        1       1     2  -3  60  -3  85  -1  110   3  ...  109  137  126   \n",
      "...    ...     ...   ...  ..  ..  ..  ..  ..  ...  ..  ...  ...  ...  ...   \n",
      "23703   78       1     0  -1  62  -1  88   0  113   2  ...  110  137  126   \n",
      "23704   81       1     0   7  56   8  80   9  103  10  ...  100  144  121   \n",
      "23705   82       1     0  15  66  13  89  15  112  20  ...  102  141  120   \n",
      "23706   82       1     0  35  64  34  83  36  103  39  ...  105  135  129   \n",
      "23707   85       1     0  -2  71   0  95   2  119   5  ...  110  135  131   \n",
      "\n",
      "       130  131  132  133  134  135  136  \n",
      "0      135  108  139   98  140   88  139  \n",
      "1      141  102  141   94  142   85  143  \n",
      "2      136  109  147   99  148   90  146  \n",
      "3      154  104  168   97  167   92  166  \n",
      "4      141  109  153   98  154   88  153  \n",
      "...    ...  ...  ...  ...  ...  ...  ...  \n",
      "23703  134  110  148  101  150   91  150  \n",
      "23704  148   99  148   91  147   84  145  \n",
      "23705  142  102  144   95  145   89  144  \n",
      "23706  137  107  146   99  147   92  147  \n",
      "23707  139  110  140   99  141   89  140  \n",
      "\n",
      "[23708 rows x 139 columns]\n"
     ]
    }
   ],
   "source": [
    "############\n",
    "###Labels###\n",
    "#age: from 1 to 116\n",
    "#gender: 0-male; 1-female\n",
    "#race: 0-white; 1-black; 2-Asian; 3-Indian; 4-others(like Hispanic, Latino, Middle Eastern)\n",
    "############\n",
    "\n",
    "labels = pd.read_csv('./data/labels.csv', header = None)\n",
    "labels = labels.values\n",
    "print(labels.shape)\n",
    "print(labels)\n",
    "\n",
    "landmarks = pd.read_csv('labels_and_landmarks.csv')\n",
    "landmarks_only = landmarks[[str(i) for i in range(1,137)]]\n",
    "print(landmarks)"
   ]
  },
  {
   "cell_type": "code",
   "execution_count": 3,
   "id": "e05f9cbb",
   "metadata": {},
   "outputs": [
    {
     "name": "stdout",
     "output_type": "stream",
     "text": [
      "labels of ages: [  1   2   3   4   5   6   7   8   9  10  11  12  13  14  15  16  17  18\n",
      "  19  20  21  22  23  24  25  26  27  28  29  30  31  32  33  34  35  36\n",
      "  37  38  39  40  41  42  43  44  45  46  47  48  49  50  51  52  53  54\n",
      "  55  56  57  58  59  60  61  62  63  64  65  66  67  68  69  70  71  72\n",
      "  73  74  75  76  77  78  79  80  81  82  83  84  85  86  87  88  89  90\n",
      "  91  92  93  95  96  99 100 101 103 105 110 111 115 116]\n",
      "labels of genders: [0 1]\n",
      "labels of races: [0 1 2 3 4]\n"
     ]
    }
   ],
   "source": [
    "print(\"labels of ages: {}\".format(np.unique(labels[:, 0])))\n",
    "print(\"labels of genders: {}\".format(np.unique(labels[:, 1])))\n",
    "print(\"labels of races: {}\".format(np.unique(labels[:, -1])))"
   ]
  },
  {
   "cell_type": "code",
   "execution_count": 4,
   "id": "1342cf01",
   "metadata": {},
   "outputs": [
    {
     "name": "stdout",
     "output_type": "stream",
     "text": [
      "(23705, 200, 200, 3)\n"
     ]
    }
   ],
   "source": [
    "# read images from Faces folder\n",
    "images = list()\n",
    "\n",
    "filelist = glob.glob('./data/Faces/*.jpg')\n",
    "for file in sorted(filelist, key=lambda s: int(s.strip(string.ascii_letters + \"./\"))):\n",
    "    im = iio.imread(file)\n",
    "    images.append(im)\n",
    "images = np.array(images)\n",
    "print(images.shape)"
   ]
  },
  {
   "cell_type": "code",
   "execution_count": 5,
   "id": "7d9795e0",
   "metadata": {},
   "outputs": [],
   "source": [
    "def get_landmarks(X, imgNum, landmarks):\n",
    "    pieces = []\n",
    "    for i in range(len(landmarks)//2):\n",
    "        lx = landmarks[2*i]\n",
    "        ly = landmarks[2*i+1]\n",
    "        if lx < 20:\n",
    "            lx = 20\n",
    "        if 180 < lx:\n",
    "            lx = 180\n",
    "        if ly < 20:\n",
    "            ly = 20\n",
    "        if 180 < ly:\n",
    "            ly = 180\n",
    "        piece = X[imgNum,lx-20:lx+20,ly-20:ly+20,:]\n",
    "        pieces.append(piece)\n",
    "    return np.array(pieces)\n",
    "\n",
    "#def flattened_landmarks(X, imgNum, landmarks):\n",
    "#    return np.array(get_landmarks(X, imgNum, landmarks)).flatten()\n",
    "\n",
    "def landmarks_all(X, landmarks):\n",
    "    data = []\n",
    "    for i in range(len(X)):\n",
    "        lm = get_landmarks(X, i, landmarks[i,:])\n",
    "        if lm is not None:\n",
    "            data.append(lm)\n",
    "    return np.array(data)"
   ]
  },
  {
   "cell_type": "code",
   "execution_count": 6,
   "id": "bd0c59ca",
   "metadata": {},
   "outputs": [
    {
     "data": {
      "image/png": "[encoded data removed]",
      "text/plain": [
       "<PIL.Image.Image image mode=RGB size=40x40 at 0x7F91DD61BAC0>"
      ]
     },
     "metadata": {},
     "output_type": "display_data"
    },
    {
     "data": {
      "image/png": "[encoded data removed]",
      "text/plain": [
       "<PIL.Image.Image image mode=RGB size=40x40 at 0x7F91DD61B670>"
      ]
     },
     "metadata": {},
     "output_type": "display_data"
    },
    {
     "data": {
      "image/png": "[encoded data removed]",
      "text/plain": [
       "<PIL.Image.Image image mode=RGB size=40x40 at 0x7F91DD61BA90>"
      ]
     },
     "metadata": {},
     "output_type": "display_data"
    }
   ],
   "source": [
    "imgs = []\n",
    "for piece in get_landmarks(images, 50, [40,60,80,100,170,20]):\n",
    "    imgs.append(Image.fromarray(piece))\n",
    "\n",
    "display(*imgs)"
   ]
  },
  {
   "cell_type": "code",
   "execution_count": null,
   "id": "6084512f",
   "metadata": {},
   "outputs": [],
   "source": [
    "image_all_pieces = landmarks_all(images, landmarks_only.to_numpy())\n",
    "print(np.shape(image_all_pieces))"
   ]
  },
  {
   "cell_type": "code",
   "execution_count": null,
   "id": "ae89ab88",
   "metadata": {},
   "outputs": [],
   "source": []
  },
  {
   "cell_type": "code",
   "execution_count": null,
   "id": "2bb32f3a",
   "metadata": {},
   "outputs": [],
   "source": []
  }
 ],
 "metadata": {
  "kernelspec": {
   "display_name": "Python 3 (ipykernel)",
   "language": "python",
   "name": "python3"
  },
  "language_info": {
   "codemirror_mode": {
    "name": "ipython",
    "version": 3
   },
   "file_extension": ".py",
   "mimetype": "text/x-python",
   "name": "python",
   "nbconvert_exporter": "python",
   "pygments_lexer": "ipython3",
   "version": "3.10.2"
  }
 },
 "nbformat": 4,
 "nbformat_minor": 5
}
